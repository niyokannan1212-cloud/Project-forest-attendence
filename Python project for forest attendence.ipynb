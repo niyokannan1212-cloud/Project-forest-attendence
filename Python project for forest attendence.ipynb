{
 "cells": [
  {
   "cell_type": "code",
   "execution_count": 20,
   "id": "e954d689",
   "metadata": {},
   "outputs": [],
   "source": [
    "import pandas as pd"
   ]
  },
  {
   "cell_type": "code",
   "execution_count": 21,
   "id": "7842e7fc",
   "metadata": {},
   "outputs": [],
   "source": [
    "df = pd.read_excel(\"C:\\\\Users\\\\HP\\\\Downloads\\\\Attendence list segregated.xlsx\",header=None)\n",
    "df.columns = df.iloc[1]     \n",
    "df = df.drop([0, 1])   "
   ]
  },
  {
   "cell_type": "code",
   "execution_count": 22,
   "id": "0035efac",
   "metadata": {},
   "outputs": [
    {
     "name": "stdout",
     "output_type": "stream",
     "text": [
      "                                              0      1                   2   \\\n",
      "0  Agroforestry training IFGTB - Attendence list    NaN                 NaN   \n",
      "1                                           Date  Batch  No of Participants   \n",
      "2                                            NaN    NaN                 NaN   \n",
      "3                                     28.01.2025      1                  46   \n",
      "4                                     30.01.2025      2                  42   \n",
      "\n",
      "        3       4     5       6     7       8      9   10   11   12   13  \\\n",
      "0      NaN     NaN   NaN     NaN   NaN     NaN    NaN NaN  NaN  NaN  NaN   \n",
      "1  ACF/FEO     NaN   FRO     NaN    Fr     NaN  Total NaN  NaN  NaN  NaN   \n",
      "2     Male  Female  Male  Female  Male  Female    NaN NaN  ACF  FRO   Fr   \n",
      "3        0       1    19       3    18       5     46 NaN    1   22   23   \n",
      "4        1       0    17       2    18       4     42 NaN    1   19   22   \n",
      "\n",
      "      14  \n",
      "0    NaN  \n",
      "1    NaN  \n",
      "2  Total  \n",
      "3     46  \n",
      "4     42  \n"
     ]
    }
   ],
   "source": [
    "print(df.head())"
   ]
  },
  {
   "cell_type": "code",
   "execution_count": 23,
   "id": "1b98acde",
   "metadata": {},
   "outputs": [],
   "source": [
    "df.columns = [\n",
    "    'Date', 'Batch', 'No_of_Participants',\n",
    "    'ACF_Male', 'ACF_Female',\n",
    "    'FRO_Male', 'FRO_Female',\n",
    "    'Fr_Male', 'Fr_Female',\n",
    "    'Total', '', 'ACF', 'FRO', 'Fr', 'Total_2'\n",
    "]"
   ]
  },
  {
   "cell_type": "code",
   "execution_count": 24,
   "id": "4dcd5116",
   "metadata": {},
   "outputs": [],
   "source": [
    "df_long = df.melt(\n",
    "    id_vars=[\"Date\", \"Batch\", \"No_of_Participants\"],\n",
    "    value_vars=[\n",
    "        \"ACF_Male\", \"ACF_Female\",\n",
    "        \"FRO_Male\", \"FRO_Female\",\n",
    "        \"Fr_Male\", \"Fr_Female\"\n",
    "    ],\n",
    "    var_name=\"Role_Gender\",\n",
    "    value_name=\"Count\"\n",
    ")"
   ]
  },
  {
   "cell_type": "code",
   "execution_count": 25,
   "id": "ed284594",
   "metadata": {},
   "outputs": [],
   "source": [
    "df_long[[\"Role\", \"Gender\"]] = df_long[\"Role_Gender\"].str.split(\"_\", expand=True)\n",
    "df_long.drop(\"Role_Gender\", axis=1, inplace=True)"
   ]
  },
  {
   "cell_type": "code",
   "execution_count": 29,
   "id": "9bb27d9c",
   "metadata": {},
   "outputs": [],
   "source": [
    "df_long[\"Batch\"] = df_long[\"Batch\"].astype(str)\n",
    "df_long = df_long.assign(\n",
    "    Batch=df_long[\"Batch\"].str.split(\"&\")\n",
    ").explode(\"Batch\")\n",
    "df_long[\"Batch\"] = df_long[\"Batch\"].str.strip()"
   ]
  },
  {
   "cell_type": "code",
   "execution_count": 30,
   "id": "feee5627",
   "metadata": {},
   "outputs": [],
   "source": [
    "df.to_csv(\"attendance_cleaned.csv\", index=False)\n"
   ]
  },
  {
   "cell_type": "code",
   "execution_count": 28,
   "id": "5cc15538",
   "metadata": {},
   "outputs": [
    {
     "name": "stdout",
     "output_type": "stream",
     "text": [
      "                                            Date  Batch  No_of_Participants  \\\n",
      "0  Agroforestry training IFGTB - Attendence list    NaN                 NaN   \n",
      "1                                           Date  Batch  No of Participants   \n",
      "2                                            NaN    NaN                 NaN   \n",
      "3                                     28.01.2025      1                  46   \n",
      "4                                     30.01.2025      2                  42   \n",
      "\n",
      "  ACF_Male ACF_Female FRO_Male FRO_Female Fr_Male Fr_Female  Total      ACF  \\\n",
      "0      NaN        NaN      NaN        NaN     NaN       NaN    NaN NaN  NaN   \n",
      "1  ACF/FEO        NaN      FRO        NaN      Fr       NaN  Total NaN  NaN   \n",
      "2     Male     Female     Male     Female    Male    Female    NaN NaN  ACF   \n",
      "3        0          1       19          3      18         5     46 NaN    1   \n",
      "4        1          0       17          2      18         4     42 NaN    1   \n",
      "\n",
      "   FRO   Fr Total_2  \n",
      "0  NaN  NaN     NaN  \n",
      "1  NaN  NaN     NaN  \n",
      "2  FRO   Fr   Total  \n",
      "3   22   23      46  \n",
      "4   19   22      42  \n"
     ]
    }
   ],
   "source": [
    "print(df.head())\n"
   ]
  }
 ],
 "metadata": {
  "kernelspec": {
   "display_name": "Python 3",
   "language": "python",
   "name": "python3"
  },
  "language_info": {
   "codemirror_mode": {
    "name": "ipython",
    "version": 3
   },
   "file_extension": ".py",
   "mimetype": "text/x-python",
   "name": "python",
   "nbconvert_exporter": "python",
   "pygments_lexer": "ipython3",
   "version": "3.13.5"
  }
 },
 "nbformat": 4,
 "nbformat_minor": 5
}
